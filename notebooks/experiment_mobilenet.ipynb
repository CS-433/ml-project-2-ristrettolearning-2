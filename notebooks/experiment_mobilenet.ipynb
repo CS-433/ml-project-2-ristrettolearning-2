{
 "cells": [
  {
   "cell_type": "code",
   "execution_count": 1,
   "metadata": {},
   "outputs": [],
   "source": [
    "import os\n",
    "import sys\n",
    "sys.path.append(os.path.abspath(\"..\"))"
   ]
  },
  {
   "cell_type": "code",
   "execution_count": 2,
   "metadata": {},
   "outputs": [],
   "source": [
    "import torch\n",
    "import numpy as np\n",
    "import torchvision.transforms as transforms\n",
    "import seaborn as sns\n",
    "import ristretto.activations as ra\n",
    "import ristretto.models as rm\n",
    "import ristretto.utils as ru\n",
    "import pandas as pd\n",
    "\n",
    "from functools import partial\n",
    "# from torch.utils.tensorboard import SummaryWriter"
   ]
  },
  {
   "cell_type": "code",
   "execution_count": 3,
   "metadata": {},
   "outputs": [],
   "source": [
    "# set pytorch precision\n",
    "torch.set_default_tensor_type(torch.FloatTensor)\n",
    "torch.set_default_dtype(torch.float32)"
   ]
  },
  {
   "cell_type": "code",
   "execution_count": 3,
   "metadata": {},
   "outputs": [],
   "source": [
    "# activate \n",
    "ra.ReLUFunction.print_when_zero = True"
   ]
  },
  {
   "cell_type": "code",
   "execution_count": 5,
   "metadata": {},
   "outputs": [],
   "source": [
    "models = [\n",
    "    rm.mobilenet_v3_small(activation=partial(ra.ReLU, 0), seed=12345),\n",
    "    rm.mobilenet_v3_small(activation=partial(ra.ReLU, 0), seed=12345),\n",
    "    rm.mobilenet_v3_small(activation=partial(ra.ReLU, 1), seed=12345)\n",
    "]"
   ]
  },
  {
   "cell_type": "code",
   "execution_count": 6,
   "metadata": {},
   "outputs": [
    {
     "name": "stdout",
     "output_type": "stream",
     "text": [
      "===== Model 1 (MobileNetV3) =====\n",
      "---------- Epoch 1 ----------\n",
      "Validation\n",
      "    loss:     3.131e+00\n",
      "    accuracy: 25.94\n",
      "---------- Epoch 2 ----------\n",
      "Validation\n",
      "    loss:     1.093e-01\n",
      "    accuracy: 96.72\n",
      "\n",
      "===== Model 2 (MobileNetV3) =====\n",
      "---------- Epoch 1 ----------\n",
      "Validation\n",
      "    loss:     3.131e+00\n",
      "    accuracy: 25.94\n",
      "---------- Epoch 2 ----------\n",
      "Validation\n",
      "    loss:     1.093e-01\n",
      "    accuracy: 96.72\n",
      "\n",
      "===== Model 3 (MobileNetV3) =====\n",
      "---------- Epoch 1 ----------\n",
      "Validation\n",
      "    loss:     3.131e+00\n",
      "    accuracy: 25.94\n",
      "---------- Epoch 2 ----------\n",
      "Validation\n",
      "    loss:     1.093e-01\n",
      "    accuracy: 96.72\n",
      "\n"
     ]
    }
   ],
   "source": [
    "metrics = ru.train_multiple_models(\n",
    "    models,\n",
    "    ru.default.DATA_LOADERS['MNIST'],\n",
    "    data_loader_transform=transforms.Compose([\n",
    "        transforms.Grayscale(num_output_channels=3),\n",
    "        transforms.ToTensor()\n",
    "    ]),\n",
    "    epochs=2,\n",
    "    metrics_fn=lambda m, p, y: {\"weight_sum\": ru.get_weight_sum(m)},\n",
    "    seed=ru.default.SEED,\n",
    "    verbose=False\n",
    ")"
   ]
  },
  {
   "cell_type": "code",
   "execution_count": 7,
   "metadata": {},
   "outputs": [
    {
     "data": {
      "image/png": "[encoded data removed]",
      "text/plain": [
       "<Figure size 640x480 with 1 Axes>"
      ]
     },
     "metadata": {},
     "output_type": "display_data"
    }
   ],
   "source": [
    "diff = pd.DataFrame({\n",
    "    \"0 vs 0\": np.abs(metrics[0][\"train\"]['weight_sum'] - metrics[1][\"train\"]['weight_sum']),\n",
    "    \"0 vs 1\": np.abs(metrics[0][\"train\"]['weight_sum'] - metrics[2][\"train\"]['weight_sum'])\n",
    "})\n",
    "sns.lineplot(data=diff, dashes=False);"
   ]
  },
  {
   "cell_type": "markdown",
   "metadata": {},
   "source": [
    "### When trained with 16-bit precision the difference between the models is even greater"
   ]
  },
  {
   "cell_type": "code",
   "execution_count": 4,
   "metadata": {},
   "outputs": [],
   "source": [
    "# set pytorch precision\n",
    "torch.set_default_tensor_type(torch.FloatTensor)\n",
    "torch.set_default_dtype(torch.bfloat16)"
   ]
  },
  {
   "cell_type": "code",
   "execution_count": 5,
   "metadata": {},
   "outputs": [],
   "source": [
    "models = [\n",
    "    rm.mobilenet_v3_small(activation=partial(ra.ReLU6, 0, 0), seed=12345),\n",
    "    rm.mobilenet_v3_small(activation=partial(ra.ReLU6, 0, 0), seed=12345),\n",
    "    rm.mobilenet_v3_small(activation=partial(ra.ReLU6, 1, 0), seed=12345)\n",
    "]"
   ]
  },
  {
   "cell_type": "code",
   "execution_count": 6,
   "metadata": {},
   "outputs": [
    {
     "name": "stdout",
     "output_type": "stream",
     "text": [
      "===== Model 1 (MobileNetV3) =====\n",
      "---------- Epoch 1 ----------\n",
      "Training [    0/60000]\n",
      "    batch loss:     6.906e+00\n",
      "    batch accuracy: 0.00\n",
      "Training [12800/60000]\n",
      "    batch loss:     3.926e-01\n",
      "    batch accuracy: 86.72\n",
      "Training [25600/60000]\n",
      "    batch loss:     2.119e-01\n",
      "    batch accuracy: 95.31\n",
      "Training [38400/60000]\n",
      "    batch loss:     1.709e-01\n",
      "    batch accuracy: 96.09\n",
      "Training [51200/60000]\n",
      "    batch loss:     2.061e-01\n",
      "    batch accuracy: 92.97\n",
      "Validation\n",
      "    loss:     3.243e+00\n",
      "    accuracy: 9.74\n",
      "---------- Epoch 2 ----------\n",
      "Training [    0/60000]\n",
      "    batch loss:     1.138e-01\n",
      "    batch accuracy: 96.88\n",
      "Training [12800/60000]\n",
      "    batch loss:     1.025e-01\n",
      "    batch accuracy: 95.31\n",
      "Training [25600/60000]\n",
      "    batch loss:     7.812e-02\n",
      "    batch accuracy: 97.66\n",
      "Training [38400/60000]\n",
      "    batch loss:     1.514e-01\n",
      "    batch accuracy: 94.53\n",
      "Training [51200/60000]\n",
      "    batch loss:     1.689e-01\n",
      "    batch accuracy: 94.53\n",
      "Validation\n",
      "    loss:     3.746e-01\n",
      "    accuracy: 92.89\n",
      "\n",
      "===== Model 2 (MobileNetV3) =====\n",
      "---------- Epoch 1 ----------\n",
      "Training [    0/60000]\n",
      "    batch loss:     6.906e+00\n",
      "    batch accuracy: 0.00\n",
      "Training [12800/60000]\n",
      "    batch loss:     3.926e-01\n",
      "    batch accuracy: 86.72\n",
      "Training [25600/60000]\n",
      "    batch loss:     2.119e-01\n",
      "    batch accuracy: 95.31\n",
      "Training [38400/60000]\n",
      "    batch loss:     1.709e-01\n",
      "    batch accuracy: 96.09\n",
      "Training [51200/60000]\n",
      "    batch loss:     2.061e-01\n",
      "    batch accuracy: 92.97\n",
      "Validation\n",
      "    loss:     3.243e+00\n",
      "    accuracy: 9.74\n",
      "---------- Epoch 2 ----------\n",
      "Training [    0/60000]\n",
      "    batch loss:     1.138e-01\n",
      "    batch accuracy: 96.88\n",
      "Training [12800/60000]\n",
      "    batch loss:     1.025e-01\n",
      "    batch accuracy: 95.31\n",
      "Training [25600/60000]\n",
      "    batch loss:     7.812e-02\n",
      "    batch accuracy: 97.66\n",
      "Training [38400/60000]\n",
      "    batch loss:     1.514e-01\n",
      "    batch accuracy: 94.53\n",
      "Training [51200/60000]\n",
      "    batch loss:     1.689e-01\n",
      "    batch accuracy: 94.53\n",
      "Validation\n",
      "    loss:     3.746e-01\n",
      "    accuracy: 92.89\n",
      "\n",
      "===== Model 3 (MobileNetV3) =====\n",
      "---------- Epoch 1 ----------\n",
      "Training [    0/60000]\n",
      "    batch loss:     6.906e+00\n",
      "    batch accuracy: 0.00\n",
      "Training [12800/60000]\n",
      "    batch loss:     3.926e-01\n",
      "    batch accuracy: 86.72\n",
      "Training [25600/60000]\n",
      "    batch loss:     2.119e-01\n",
      "    batch accuracy: 95.31\n",
      "Training [38400/60000]\n",
      "    batch loss:     1.709e-01\n",
      "    batch accuracy: 96.09\n",
      "Training [51200/60000]\n",
      "    batch loss:     2.061e-01\n",
      "    batch accuracy: 92.97\n",
      "Validation\n",
      "    loss:     3.243e+00\n",
      "    accuracy: 9.74\n",
      "---------- Epoch 2 ----------\n",
      "Training [    0/60000]\n",
      "    batch loss:     1.138e-01\n",
      "    batch accuracy: 96.88\n",
      "Training [12800/60000]\n",
      "    batch loss:     1.025e-01\n",
      "    batch accuracy: 95.31\n",
      "Training [25600/60000]\n",
      "    batch loss:     7.812e-02\n",
      "    batch accuracy: 97.66\n",
      "Training [38400/60000]\n",
      "    batch loss:     1.514e-01\n",
      "    batch accuracy: 94.53\n",
      "Training [51200/60000]\n",
      "    batch loss:     1.689e-01\n",
      "    batch accuracy: 94.53\n",
      "Validation\n",
      "    loss:     3.746e-01\n",
      "    accuracy: 92.89\n",
      "\n"
     ]
    }
   ],
   "source": [
    "metrics = ru.train_multiple_models(\n",
    "    models,\n",
    "    ru.default.DATA_LOADERS['MNIST'],\n",
    "    data_loader_transform=transforms.Compose([\n",
    "        transforms.Grayscale(num_output_channels=3),\n",
    "        transforms.ToTensor()\n",
    "    ]),\n",
    "    epochs=2,\n",
    "    metrics_fn=lambda m, p, y: {\"weight_sum\": ru.get_weight_sum(m)},\n",
    "    seed=ru.default.SEED,\n",
    "    verbose=True\n",
    ")"
   ]
  },
  {
   "cell_type": "code",
   "execution_count": 7,
   "metadata": {},
   "outputs": [
    {
     "data": {
      "image/png": "[encoded data removed]",
      "text/plain": [
       "<Figure size 640x480 with 1 Axes>"
      ]
     },
     "metadata": {},
     "output_type": "display_data"
    }
   ],
   "source": [
    "diff = pd.DataFrame({\n",
    "    \"0 vs 0\": np.abs(metrics[0][\"train\"]['weight_sum'] - metrics[1][\"train\"]['weight_sum']),\n",
    "    \"0 vs 1\": np.abs(metrics[0][\"train\"]['weight_sum'] - metrics[2][\"train\"]['weight_sum'])\n",
    "})\n",
    "sns.lineplot(data=diff, dashes=False);"
   ]
  }
 ],
 "metadata": {
  "kernelspec": {
   "display_name": "Python 3.9.13 ('ml_epfl')",
   "language": "python",
   "name": "python3"
  },
  "language_info": {
   "codemirror_mode": {
    "name": "ipython",
    "version": 3
   },
   "file_extension": ".py",
   "mimetype": "text/x-python",
   "name": "python",
   "nbconvert_exporter": "python",
   "pygments_lexer": "ipython3",
   "version": "3.9.13"
  },
  "orig_nbformat": 4,
  "vscode": {
   "interpreter": {
    "hash": "195b71208d72e1d21a57417769b59300c7519ce10268ba6256d8536d9a27088a"
   }
  }
 },
 "nbformat": 4,
 "nbformat_minor": 2
}
