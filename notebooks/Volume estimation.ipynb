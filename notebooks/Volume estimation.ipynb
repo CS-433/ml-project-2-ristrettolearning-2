{
 "cells": [
  {
   "cell_type": "code",
   "execution_count": 1,
   "metadata": {},
   "outputs": [],
   "source": [
    "import os\n",
    "import sys\n",
    "sys.path.append(os.path.abspath(\"..\"))\n",
    "\n",
    "import torch\n",
    "import seaborn as sns\n",
    "import ristretto.activations as ra\n",
    "import ristretto.models as rm\n",
    "import ristretto.utils as ru\n",
    "\n",
    "# Importing the dataset for experiments\n",
    "from torch.utils.data import DataLoader\n",
    "from torchvision import datasets, transforms\n",
    "import torch.nn as nn\n",
    "\n",
    "#Some useful imports\n",
    "from tqdm.notebook import tqdm\n",
    "import pandas as pd\n",
    "import numpy as np\n",
    "import matplotlib.pyplot as plt\n",
    "# from torch.utils.tensorboard import SummaryWriter"
   ]
  },
  {
   "cell_type": "code",
   "execution_count": 3,
   "metadata": {},
   "outputs": [],
   "source": [
    "# We are taking our custom model creator to make a model with custom features \n",
    "device = torch.device(\"cuda\" if torch.cuda.is_available() else \"cpu\")\n",
    "\n",
    "\n",
    "# We are taking our custom model creator to make a model with custom features\n",
    "def make_mlp_models(alpha = 0, nb_neurons = 200, nb_layers=3, regularizer = torch.nn.Identity(), device = device ):\n",
    "    layers = [nb_neurons]*nb_layers\n",
    "    return rm.FullyConnected(activation=lambda: ra.ReLU(alpha), reg=lambda: regularizer , hidden_dims=layers, seed=None)\n",
    "    \n",
    "    \n",
    "# We copy the parameters of the first model to the second model to make sure that they are the same  \n",
    "def copy_params(net1, net2):\n",
    "    params1 = net1.named_parameters()\n",
    "    params2 = net2.named_parameters()\n",
    "\n",
    "    dict_params2 = dict(params2)\n",
    "\n",
    "    for name, param in params1:\n",
    "        if name in dict_params2:\n",
    "            dict_params2[name].data.copy_(param.data)\n",
    "           \n",
    "           \n",
    "# We are making a function to build the models with the given parameters we will use it in each experiment           \n",
    "def build_models(nb_neurons=512, nb_hidden_layers=2, precision=32, device = device):\n",
    "    net1 = make_mlp_models( 0, nb_neurons, nb_hidden_layers, device = device).to(device)\n",
    "    net2 = make_mlp_models( 1, nb_neurons, nb_hidden_layers, device = device).to(device)\n",
    "\n",
    "    copy_params(net1, net2)\n",
    "    \n",
    "    for net in [net1, net2]:\n",
    "        \n",
    "        if precision == 16:\n",
    "            net.half()\n",
    "        if precision == 64:\n",
    "            net.double()\n",
    "\n",
    "    return net1, net2\n"
   ]
  },
  {
   "cell_type": "code",
   "execution_count": 7,
   "metadata": {},
   "outputs": [],
   "source": [
    "# Number of experiments to run \n",
    "nb_experiments = 100 \n",
    "\n",
    "\n",
    "#Load data to run experiments\n",
    "train_data = datasets.MNIST(root='data', train=True, download=True, transform=transforms.ToTensor())\n",
    "train_loader = torch.utils.data.DataLoader(train_data, batch_size=256)\n"
   ]
  },
  {
   "cell_type": "code",
   "execution_count": 5,
   "metadata": {},
   "outputs": [
    {
     "data": {
      "application/vnd.jupyter.widget-view+json": {
       "model_id": "3da963ff0c4143cbb0a562ed8e3ea7c4",
       "version_major": 2,
       "version_minor": 0
      },
      "text/plain": [
       "precision:   0%|          | 0/3 [00:00<?, ?it/s]"
      ]
     },
     "metadata": {},
     "output_type": "display_data"
    },
    {
     "data": {
      "application/vnd.jupyter.widget-view+json": {
       "model_id": "c72031f50ee74ba5afcc2cc58a05c391",
       "version_major": 2,
       "version_minor": 0
      },
      "text/plain": [
       "nb_layers:   0%|          | 0/5 [00:00<?, ?it/s]"
      ]
     },
     "metadata": {},
     "output_type": "display_data"
    },
    {
     "data": {
      "application/vnd.jupyter.widget-view+json": {
       "model_id": "c76352f00b994f71a25faeb98d0ac4b0",
       "version_major": 2,
       "version_minor": 0
      },
      "text/plain": [
       "run:   0%|          | 0/100 [00:00<?, ?it/s]"
      ]
     },
     "metadata": {},
     "output_type": "display_data"
    },
    {
     "name": "stderr",
     "output_type": "stream",
     "text": [
      "C:\\Users\\hecma\\AppData\\Local\\Temp\\ipykernel_5596\\1375163056.py:35: FutureWarning: The frame.append method is deprecated and will be removed from pandas in a future version. Use pandas.concat instead.\n",
      "  df = df.append({\"precision\": precision,\n"
     ]
    },
    {
     "data": {
      "application/vnd.jupyter.widget-view+json": {
       "model_id": "31c85404bbb74683a3b48fbde77e30f4",
       "version_major": 2,
       "version_minor": 0
      },
      "text/plain": [
       "run:   0%|          | 0/100 [00:00<?, ?it/s]"
      ]
     },
     "metadata": {},
     "output_type": "display_data"
    },
    {
     "name": "stderr",
     "output_type": "stream",
     "text": [
      "C:\\Users\\hecma\\AppData\\Local\\Temp\\ipykernel_5596\\1375163056.py:35: FutureWarning: The frame.append method is deprecated and will be removed from pandas in a future version. Use pandas.concat instead.\n",
      "  df = df.append({\"precision\": precision,\n"
     ]
    },
    {
     "data": {
      "application/vnd.jupyter.widget-view+json": {
       "model_id": "6691a39d8d404b0283700d2a8c6412b4",
       "version_major": 2,
       "version_minor": 0
      },
      "text/plain": [
       "run:   0%|          | 0/100 [00:00<?, ?it/s]"
      ]
     },
     "metadata": {},
     "output_type": "display_data"
    },
    {
     "name": "stderr",
     "output_type": "stream",
     "text": [
      "C:\\Users\\hecma\\AppData\\Local\\Temp\\ipykernel_5596\\1375163056.py:35: FutureWarning: The frame.append method is deprecated and will be removed from pandas in a future version. Use pandas.concat instead.\n",
      "  df = df.append({\"precision\": precision,\n"
     ]
    },
    {
     "data": {
      "application/vnd.jupyter.widget-view+json": {
       "model_id": "eb716971c3ca455aad66299231967b8d",
       "version_major": 2,
       "version_minor": 0
      },
      "text/plain": [
       "run:   0%|          | 0/100 [00:00<?, ?it/s]"
      ]
     },
     "metadata": {},
     "output_type": "display_data"
    },
    {
     "name": "stderr",
     "output_type": "stream",
     "text": [
      "C:\\Users\\hecma\\AppData\\Local\\Temp\\ipykernel_5596\\1375163056.py:35: FutureWarning: The frame.append method is deprecated and will be removed from pandas in a future version. Use pandas.concat instead.\n",
      "  df = df.append({\"precision\": precision,\n"
     ]
    },
    {
     "data": {
      "application/vnd.jupyter.widget-view+json": {
       "model_id": "09e0e68d576549e095a42e4650103992",
       "version_major": 2,
       "version_minor": 0
      },
      "text/plain": [
       "run:   0%|          | 0/100 [00:00<?, ?it/s]"
      ]
     },
     "metadata": {},
     "output_type": "display_data"
    },
    {
     "name": "stderr",
     "output_type": "stream",
     "text": [
      "C:\\Users\\hecma\\AppData\\Local\\Temp\\ipykernel_5596\\1375163056.py:35: FutureWarning: The frame.append method is deprecated and will be removed from pandas in a future version. Use pandas.concat instead.\n",
      "  df = df.append({\"precision\": precision,\n"
     ]
    },
    {
     "data": {
      "application/vnd.jupyter.widget-view+json": {
       "model_id": "c658f5ad55cc439a9e8e0ce186a4ced9",
       "version_major": 2,
       "version_minor": 0
      },
      "text/plain": [
       "nb_layers:   0%|          | 0/5 [00:00<?, ?it/s]"
      ]
     },
     "metadata": {},
     "output_type": "display_data"
    },
    {
     "data": {
      "application/vnd.jupyter.widget-view+json": {
       "model_id": "80ecf0a2c7f145338cdb1e68fc7d5e68",
       "version_major": 2,
       "version_minor": 0
      },
      "text/plain": [
       "run:   0%|          | 0/100 [00:00<?, ?it/s]"
      ]
     },
     "metadata": {},
     "output_type": "display_data"
    },
    {
     "name": "stderr",
     "output_type": "stream",
     "text": [
      "C:\\Users\\hecma\\AppData\\Local\\Temp\\ipykernel_5596\\1375163056.py:35: FutureWarning: The frame.append method is deprecated and will be removed from pandas in a future version. Use pandas.concat instead.\n",
      "  df = df.append({\"precision\": precision,\n"
     ]
    },
    {
     "data": {
      "application/vnd.jupyter.widget-view+json": {
       "model_id": "8600b4b9b32f44909ca4ce8b458f87b8",
       "version_major": 2,
       "version_minor": 0
      },
      "text/plain": [
       "run:   0%|          | 0/100 [00:00<?, ?it/s]"
      ]
     },
     "metadata": {},
     "output_type": "display_data"
    },
    {
     "name": "stderr",
     "output_type": "stream",
     "text": [
      "C:\\Users\\hecma\\AppData\\Local\\Temp\\ipykernel_5596\\1375163056.py:35: FutureWarning: The frame.append method is deprecated and will be removed from pandas in a future version. Use pandas.concat instead.\n",
      "  df = df.append({\"precision\": precision,\n"
     ]
    },
    {
     "data": {
      "application/vnd.jupyter.widget-view+json": {
       "model_id": "7aacd8ef344b4caf8388ecb1c1274892",
       "version_major": 2,
       "version_minor": 0
      },
      "text/plain": [
       "run:   0%|          | 0/100 [00:00<?, ?it/s]"
      ]
     },
     "metadata": {},
     "output_type": "display_data"
    },
    {
     "name": "stderr",
     "output_type": "stream",
     "text": [
      "C:\\Users\\hecma\\AppData\\Local\\Temp\\ipykernel_5596\\1375163056.py:35: FutureWarning: The frame.append method is deprecated and will be removed from pandas in a future version. Use pandas.concat instead.\n",
      "  df = df.append({\"precision\": precision,\n"
     ]
    },
    {
     "data": {
      "application/vnd.jupyter.widget-view+json": {
       "model_id": "49ecacd50e884eb7946eceadf50adcfd",
       "version_major": 2,
       "version_minor": 0
      },
      "text/plain": [
       "run:   0%|          | 0/100 [00:00<?, ?it/s]"
      ]
     },
     "metadata": {},
     "output_type": "display_data"
    },
    {
     "name": "stderr",
     "output_type": "stream",
     "text": [
      "C:\\Users\\hecma\\AppData\\Local\\Temp\\ipykernel_5596\\1375163056.py:35: FutureWarning: The frame.append method is deprecated and will be removed from pandas in a future version. Use pandas.concat instead.\n",
      "  df = df.append({\"precision\": precision,\n"
     ]
    },
    {
     "data": {
      "application/vnd.jupyter.widget-view+json": {
       "model_id": "63edff92cfc3491ba0e756085ceec36d",
       "version_major": 2,
       "version_minor": 0
      },
      "text/plain": [
       "run:   0%|          | 0/100 [00:00<?, ?it/s]"
      ]
     },
     "metadata": {},
     "output_type": "display_data"
    },
    {
     "name": "stderr",
     "output_type": "stream",
     "text": [
      "C:\\Users\\hecma\\AppData\\Local\\Temp\\ipykernel_5596\\1375163056.py:35: FutureWarning: The frame.append method is deprecated and will be removed from pandas in a future version. Use pandas.concat instead.\n",
      "  df = df.append({\"precision\": precision,\n"
     ]
    },
    {
     "data": {
      "application/vnd.jupyter.widget-view+json": {
       "model_id": "201f0bbfe82d446799f4cb596656c2e0",
       "version_major": 2,
       "version_minor": 0
      },
      "text/plain": [
       "nb_layers:   0%|          | 0/5 [00:00<?, ?it/s]"
      ]
     },
     "metadata": {},
     "output_type": "display_data"
    },
    {
     "data": {
      "application/vnd.jupyter.widget-view+json": {
       "model_id": "1e3ba6a7242e49ab80933adf8f4f2cfa",
       "version_major": 2,
       "version_minor": 0
      },
      "text/plain": [
       "run:   0%|          | 0/100 [00:00<?, ?it/s]"
      ]
     },
     "metadata": {},
     "output_type": "display_data"
    },
    {
     "name": "stderr",
     "output_type": "stream",
     "text": [
      "C:\\Users\\hecma\\AppData\\Local\\Temp\\ipykernel_5596\\1375163056.py:35: FutureWarning: The frame.append method is deprecated and will be removed from pandas in a future version. Use pandas.concat instead.\n",
      "  df = df.append({\"precision\": precision,\n"
     ]
    },
    {
     "data": {
      "application/vnd.jupyter.widget-view+json": {
       "model_id": "d33ae0e7308a4f83a2f8b01441cb3c02",
       "version_major": 2,
       "version_minor": 0
      },
      "text/plain": [
       "run:   0%|          | 0/100 [00:00<?, ?it/s]"
      ]
     },
     "metadata": {},
     "output_type": "display_data"
    },
    {
     "name": "stderr",
     "output_type": "stream",
     "text": [
      "C:\\Users\\hecma\\AppData\\Local\\Temp\\ipykernel_5596\\1375163056.py:35: FutureWarning: The frame.append method is deprecated and will be removed from pandas in a future version. Use pandas.concat instead.\n",
      "  df = df.append({\"precision\": precision,\n"
     ]
    },
    {
     "data": {
      "application/vnd.jupyter.widget-view+json": {
       "model_id": "2ac0ae4604414cb4aa998e41641ed7de",
       "version_major": 2,
       "version_minor": 0
      },
      "text/plain": [
       "run:   0%|          | 0/100 [00:00<?, ?it/s]"
      ]
     },
     "metadata": {},
     "output_type": "display_data"
    },
    {
     "name": "stderr",
     "output_type": "stream",
     "text": [
      "C:\\Users\\hecma\\AppData\\Local\\Temp\\ipykernel_5596\\1375163056.py:35: FutureWarning: The frame.append method is deprecated and will be removed from pandas in a future version. Use pandas.concat instead.\n",
      "  df = df.append({\"precision\": precision,\n"
     ]
    },
    {
     "data": {
      "application/vnd.jupyter.widget-view+json": {
       "model_id": "8f6db00660c64e2391aa8d3126600363",
       "version_major": 2,
       "version_minor": 0
      },
      "text/plain": [
       "run:   0%|          | 0/100 [00:00<?, ?it/s]"
      ]
     },
     "metadata": {},
     "output_type": "display_data"
    },
    {
     "name": "stderr",
     "output_type": "stream",
     "text": [
      "C:\\Users\\hecma\\AppData\\Local\\Temp\\ipykernel_5596\\1375163056.py:35: FutureWarning: The frame.append method is deprecated and will be removed from pandas in a future version. Use pandas.concat instead.\n",
      "  df = df.append({\"precision\": precision,\n"
     ]
    },
    {
     "data": {
      "application/vnd.jupyter.widget-view+json": {
       "model_id": "96a26a77c5514df2a368b4eb80882685",
       "version_major": 2,
       "version_minor": 0
      },
      "text/plain": [
       "run:   0%|          | 0/100 [00:00<?, ?it/s]"
      ]
     },
     "metadata": {},
     "output_type": "display_data"
    },
    {
     "name": "stderr",
     "output_type": "stream",
     "text": [
      "C:\\Users\\hecma\\AppData\\Local\\Temp\\ipykernel_5596\\1375163056.py:35: FutureWarning: The frame.append method is deprecated and will be removed from pandas in a future version. Use pandas.concat instead.\n",
      "  df = df.append({\"precision\": precision,\n"
     ]
    }
   ],
   "source": [
    "df = pd.DataFrame(columns=[\"precision\", \"count\", \"nb_layers\"])\n",
    "\n",
    "# This experiment iterates through the number of layers and the precisions with a fixed number of neurons\n",
    "nb_neurons = 32\n",
    "batch_size = 256\n",
    "\n",
    "\n",
    "for precision in tqdm([16,32,64], desc='precision'): # We iterate through the precisions\n",
    "    for nb_layers in tqdm([1,2,3,5,6], desc='number of layers', leave=False): # We iterate through the number of layers\n",
    "        count = 0\n",
    "        \n",
    "        for run_id in tqdm(range(nb_experiments), desc='run', leave=False): # This just runs the experimets nb_experiments times\n",
    "            # In this part we dont do the training, we just build the models and check if the gradients are the same\n",
    "            # No optimization is done, is just a volume estimation.\n",
    "            # each experiment does one forward pass and one backward pass\n",
    "            \n",
    "            (net1, net2) = build_models(nb_neurons, nb_layers, precision, device)\n",
    "            \n",
    "            for x, y in train_loader:\n",
    "                x = x.to(device)\n",
    "                if precision == 16:\n",
    "                    x = x.half()\n",
    "                if precision == 64:\n",
    "                    break#x = x.double()\n",
    "                y = y.to(device)\n",
    "                same = True\n",
    "                y1 = net1(x.view(-1, 28 * 28))\n",
    "                y2 = net2(x.view(-1, 28 * 28))\n",
    "                l1 = nn.CrossEntropyLoss()(y1, y)\n",
    "                l2 = nn.CrossEntropyLoss()(y2, y)\n",
    "                l1.backward(), l2.backward()\n",
    "                \n",
    "                if (net1.sequence[0].weight.grad - net2.sequence[0].weight.grad).abs().sum() != 0:\n",
    "                    count += 1\n",
    "                    break\n",
    "                \n",
    "        df = df.append({\"precision\": precision,\n",
    "                        \"nb_layers\": nb_layers,\n",
    "                        \"count\": count}, ignore_index=True)\n",
    "        \n",
    "        \n",
    "df.to_csv(\"volume_estimation_by_number_of_layers_MNIST.csv\")"
   ]
  },
  {
   "cell_type": "code",
   "execution_count": 6,
   "metadata": {},
   "outputs": [],
   "source": [
    "#In case we want to relabel the plots\n",
    "df = pd.read_csv(\"volume_estimation_by_number_of_layers_MNIST.csv\")"
   ]
  },
  {
   "cell_type": "code",
   "execution_count": 7,
   "metadata": {},
   "outputs": [
    {
     "data": {
      "image/png": "[encoded data removed]",
      "text/plain": [
       "<Figure size 648x324 with 1 Axes>"
      ]
     },
     "metadata": {
      "needs_background": "light"
     },
     "output_type": "display_data"
    }
   ],
   "source": [
    "\n",
    "df['ratio'] = df['count'] / nb_experiments\n",
    "sns.catplot(x = \"nb_layers\",       \n",
    "            y = \"ratio\",       \n",
    "            hue = \"precision\",                  \n",
    "            data = df,     \n",
    "            kind = \"bar\",\n",
    "            height=4.5, aspect=2,\n",
    "            legend=False\n",
    "            )\n",
    "\n",
    "plt.legend(title='precision', fontsize='20', title_fontsize='20', bbox_to_anchor=(1.05, 1), loc='upper left')\n",
    "plt.xlabel('Number of layers', fontsize='20');\n",
    "plt.ylabel('Ratio of ' + r'$\\theta \\in S$', fontsize='20');\n",
    "plt.yticks(fontsize='20');\n",
    "plt.xticks(fontsize='20');\n",
    "plt.title(\"Volume by number of layers\", fontsize='25')\n",
    "plt.text(4.9,.2, \"Neurons =32\\nBatch Size = 256\\nExperiments = 100\", fontsize='15');\n",
    "plt.savefig('layers.png')"
   ]
  },
  {
   "cell_type": "code",
   "execution_count": 14,
   "metadata": {},
   "outputs": [
    {
     "data": {
      "application/vnd.jupyter.widget-view+json": {
       "model_id": "39cf819b89154da8b13b303c06856325",
       "version_major": 2,
       "version_minor": 0
      },
      "text/plain": [
       "precision:   0%|          | 0/3 [00:00<?, ?it/s]"
      ]
     },
     "metadata": {},
     "output_type": "display_data"
    },
    {
     "data": {
      "application/vnd.jupyter.widget-view+json": {
       "model_id": "c79021fa7d15460582f9500240165dd9",
       "version_major": 2,
       "version_minor": 0
      },
      "text/plain": [
       "nb_neurons:   0%|          | 0/5 [00:00<?, ?it/s]"
      ]
     },
     "metadata": {},
     "output_type": "display_data"
    },
    {
     "data": {
      "application/vnd.jupyter.widget-view+json": {
       "model_id": "1ee19feb076a49d4abbd8c4f76b7f021",
       "version_major": 2,
       "version_minor": 0
      },
      "text/plain": [
       "run:   0%|          | 0/100 [00:00<?, ?it/s]"
      ]
     },
     "metadata": {},
     "output_type": "display_data"
    },
    {
     "name": "stderr",
     "output_type": "stream",
     "text": [
      "C:\\Users\\hecma\\AppData\\Local\\Temp\\ipykernel_5596\\2725346550.py:34: FutureWarning: The frame.append method is deprecated and will be removed from pandas in a future version. Use pandas.concat instead.\n",
      "  df = df.append({\"precision\": precision,\n"
     ]
    },
    {
     "data": {
      "application/vnd.jupyter.widget-view+json": {
       "model_id": "0273c09ee2fd408882aec6a44c98d4cf",
       "version_major": 2,
       "version_minor": 0
      },
      "text/plain": [
       "run:   0%|          | 0/100 [00:00<?, ?it/s]"
      ]
     },
     "metadata": {},
     "output_type": "display_data"
    },
    {
     "name": "stderr",
     "output_type": "stream",
     "text": [
      "C:\\Users\\hecma\\AppData\\Local\\Temp\\ipykernel_5596\\2725346550.py:34: FutureWarning: The frame.append method is deprecated and will be removed from pandas in a future version. Use pandas.concat instead.\n",
      "  df = df.append({\"precision\": precision,\n"
     ]
    },
    {
     "data": {
      "application/vnd.jupyter.widget-view+json": {
       "model_id": "75b6dca180cf45d58a2d24692eb59acb",
       "version_major": 2,
       "version_minor": 0
      },
      "text/plain": [
       "run:   0%|          | 0/100 [00:00<?, ?it/s]"
      ]
     },
     "metadata": {},
     "output_type": "display_data"
    },
    {
     "name": "stderr",
     "output_type": "stream",
     "text": [
      "C:\\Users\\hecma\\AppData\\Local\\Temp\\ipykernel_5596\\2725346550.py:34: FutureWarning: The frame.append method is deprecated and will be removed from pandas in a future version. Use pandas.concat instead.\n",
      "  df = df.append({\"precision\": precision,\n"
     ]
    },
    {
     "data": {
      "application/vnd.jupyter.widget-view+json": {
       "model_id": "12d17ae440074f8ab01970281a54f2d3",
       "version_major": 2,
       "version_minor": 0
      },
      "text/plain": [
       "run:   0%|          | 0/100 [00:00<?, ?it/s]"
      ]
     },
     "metadata": {},
     "output_type": "display_data"
    },
    {
     "name": "stderr",
     "output_type": "stream",
     "text": [
      "C:\\Users\\hecma\\AppData\\Local\\Temp\\ipykernel_5596\\2725346550.py:34: FutureWarning: The frame.append method is deprecated and will be removed from pandas in a future version. Use pandas.concat instead.\n",
      "  df = df.append({\"precision\": precision,\n"
     ]
    },
    {
     "data": {
      "application/vnd.jupyter.widget-view+json": {
       "model_id": "7231cdec3d344596a60a8a2ecded3b5b",
       "version_major": 2,
       "version_minor": 0
      },
      "text/plain": [
       "run:   0%|          | 0/100 [00:00<?, ?it/s]"
      ]
     },
     "metadata": {},
     "output_type": "display_data"
    },
    {
     "name": "stderr",
     "output_type": "stream",
     "text": [
      "C:\\Users\\hecma\\AppData\\Local\\Temp\\ipykernel_5596\\2725346550.py:34: FutureWarning: The frame.append method is deprecated and will be removed from pandas in a future version. Use pandas.concat instead.\n",
      "  df = df.append({\"precision\": precision,\n"
     ]
    },
    {
     "data": {
      "application/vnd.jupyter.widget-view+json": {
       "model_id": "5bba9e0501d940fbb49df8879ba4cc6c",
       "version_major": 2,
       "version_minor": 0
      },
      "text/plain": [
       "nb_neurons:   0%|          | 0/5 [00:00<?, ?it/s]"
      ]
     },
     "metadata": {},
     "output_type": "display_data"
    },
    {
     "data": {
      "application/vnd.jupyter.widget-view+json": {
       "model_id": "ddde0ae2aa084156a4028ae0bafdf809",
       "version_major": 2,
       "version_minor": 0
      },
      "text/plain": [
       "run:   0%|          | 0/100 [00:00<?, ?it/s]"
      ]
     },
     "metadata": {},
     "output_type": "display_data"
    },
    {
     "name": "stderr",
     "output_type": "stream",
     "text": [
      "C:\\Users\\hecma\\AppData\\Local\\Temp\\ipykernel_5596\\2725346550.py:34: FutureWarning: The frame.append method is deprecated and will be removed from pandas in a future version. Use pandas.concat instead.\n",
      "  df = df.append({\"precision\": precision,\n"
     ]
    },
    {
     "data": {
      "application/vnd.jupyter.widget-view+json": {
       "model_id": "be6aac8720c64f1891feba068524b6e5",
       "version_major": 2,
       "version_minor": 0
      },
      "text/plain": [
       "run:   0%|          | 0/100 [00:00<?, ?it/s]"
      ]
     },
     "metadata": {},
     "output_type": "display_data"
    },
    {
     "name": "stderr",
     "output_type": "stream",
     "text": [
      "C:\\Users\\hecma\\AppData\\Local\\Temp\\ipykernel_5596\\2725346550.py:34: FutureWarning: The frame.append method is deprecated and will be removed from pandas in a future version. Use pandas.concat instead.\n",
      "  df = df.append({\"precision\": precision,\n"
     ]
    },
    {
     "data": {
      "application/vnd.jupyter.widget-view+json": {
       "model_id": "8c9b2e83c57c4b679ad4c8ec51fbe6bc",
       "version_major": 2,
       "version_minor": 0
      },
      "text/plain": [
       "run:   0%|          | 0/100 [00:00<?, ?it/s]"
      ]
     },
     "metadata": {},
     "output_type": "display_data"
    },
    {
     "name": "stderr",
     "output_type": "stream",
     "text": [
      "C:\\Users\\hecma\\AppData\\Local\\Temp\\ipykernel_5596\\2725346550.py:34: FutureWarning: The frame.append method is deprecated and will be removed from pandas in a future version. Use pandas.concat instead.\n",
      "  df = df.append({\"precision\": precision,\n"
     ]
    },
    {
     "data": {
      "application/vnd.jupyter.widget-view+json": {
       "model_id": "98467dc0297f433da4f75e49b3c4474b",
       "version_major": 2,
       "version_minor": 0
      },
      "text/plain": [
       "run:   0%|          | 0/100 [00:00<?, ?it/s]"
      ]
     },
     "metadata": {},
     "output_type": "display_data"
    },
    {
     "name": "stderr",
     "output_type": "stream",
     "text": [
      "C:\\Users\\hecma\\AppData\\Local\\Temp\\ipykernel_5596\\2725346550.py:34: FutureWarning: The frame.append method is deprecated and will be removed from pandas in a future version. Use pandas.concat instead.\n",
      "  df = df.append({\"precision\": precision,\n"
     ]
    },
    {
     "data": {
      "application/vnd.jupyter.widget-view+json": {
       "model_id": "6de2e8f6b67549e6aded79e6153aa449",
       "version_major": 2,
       "version_minor": 0
      },
      "text/plain": [
       "run:   0%|          | 0/100 [00:00<?, ?it/s]"
      ]
     },
     "metadata": {},
     "output_type": "display_data"
    },
    {
     "name": "stderr",
     "output_type": "stream",
     "text": [
      "C:\\Users\\hecma\\AppData\\Local\\Temp\\ipykernel_5596\\2725346550.py:34: FutureWarning: The frame.append method is deprecated and will be removed from pandas in a future version. Use pandas.concat instead.\n",
      "  df = df.append({\"precision\": precision,\n"
     ]
    },
    {
     "data": {
      "application/vnd.jupyter.widget-view+json": {
       "model_id": "16b386948faa4d0a91b97df50a5d0005",
       "version_major": 2,
       "version_minor": 0
      },
      "text/plain": [
       "nb_neurons:   0%|          | 0/5 [00:00<?, ?it/s]"
      ]
     },
     "metadata": {},
     "output_type": "display_data"
    },
    {
     "data": {
      "application/vnd.jupyter.widget-view+json": {
       "model_id": "0d0941c2731646e4b2db1e8caf37b193",
       "version_major": 2,
       "version_minor": 0
      },
      "text/plain": [
       "run:   0%|          | 0/100 [00:00<?, ?it/s]"
      ]
     },
     "metadata": {},
     "output_type": "display_data"
    },
    {
     "name": "stderr",
     "output_type": "stream",
     "text": [
      "C:\\Users\\hecma\\AppData\\Local\\Temp\\ipykernel_5596\\2725346550.py:34: FutureWarning: The frame.append method is deprecated and will be removed from pandas in a future version. Use pandas.concat instead.\n",
      "  df = df.append({\"precision\": precision,\n"
     ]
    },
    {
     "data": {
      "application/vnd.jupyter.widget-view+json": {
       "model_id": "8a9018e3959048958288bcebe78dc9b6",
       "version_major": 2,
       "version_minor": 0
      },
      "text/plain": [
       "run:   0%|          | 0/100 [00:00<?, ?it/s]"
      ]
     },
     "metadata": {},
     "output_type": "display_data"
    },
    {
     "name": "stderr",
     "output_type": "stream",
     "text": [
      "C:\\Users\\hecma\\AppData\\Local\\Temp\\ipykernel_5596\\2725346550.py:34: FutureWarning: The frame.append method is deprecated and will be removed from pandas in a future version. Use pandas.concat instead.\n",
      "  df = df.append({\"precision\": precision,\n"
     ]
    },
    {
     "data": {
      "application/vnd.jupyter.widget-view+json": {
       "model_id": "87f5bfeb1ab74742888479a0dd934261",
       "version_major": 2,
       "version_minor": 0
      },
      "text/plain": [
       "run:   0%|          | 0/100 [00:00<?, ?it/s]"
      ]
     },
     "metadata": {},
     "output_type": "display_data"
    },
    {
     "name": "stderr",
     "output_type": "stream",
     "text": [
      "C:\\Users\\hecma\\AppData\\Local\\Temp\\ipykernel_5596\\2725346550.py:34: FutureWarning: The frame.append method is deprecated and will be removed from pandas in a future version. Use pandas.concat instead.\n",
      "  df = df.append({\"precision\": precision,\n"
     ]
    },
    {
     "data": {
      "application/vnd.jupyter.widget-view+json": {
       "model_id": "e1805985a9f64f6dac465f904fdc9ce5",
       "version_major": 2,
       "version_minor": 0
      },
      "text/plain": [
       "run:   0%|          | 0/100 [00:00<?, ?it/s]"
      ]
     },
     "metadata": {},
     "output_type": "display_data"
    },
    {
     "name": "stderr",
     "output_type": "stream",
     "text": [
      "C:\\Users\\hecma\\AppData\\Local\\Temp\\ipykernel_5596\\2725346550.py:34: FutureWarning: The frame.append method is deprecated and will be removed from pandas in a future version. Use pandas.concat instead.\n",
      "  df = df.append({\"precision\": precision,\n"
     ]
    },
    {
     "data": {
      "application/vnd.jupyter.widget-view+json": {
       "model_id": "9a3c64330e3740548043dfa3f049b1fb",
       "version_major": 2,
       "version_minor": 0
      },
      "text/plain": [
       "run:   0%|          | 0/100 [00:00<?, ?it/s]"
      ]
     },
     "metadata": {},
     "output_type": "display_data"
    },
    {
     "name": "stderr",
     "output_type": "stream",
     "text": [
      "C:\\Users\\hecma\\AppData\\Local\\Temp\\ipykernel_5596\\2725346550.py:34: FutureWarning: The frame.append method is deprecated and will be removed from pandas in a future version. Use pandas.concat instead.\n",
      "  df = df.append({\"precision\": precision,\n"
     ]
    }
   ],
   "source": [
    "df = pd.DataFrame(columns=[\"precision\", \"count\", \"nb_layers\"])\n",
    "\n",
    "# This experiment iterates through the number of neurons and the precisions with a fixed number of layers\n",
    "\n",
    "nb_layers = 4\n",
    "batch_size = 256\n",
    "\n",
    "for precision in tqdm([16,32, 64], desc='precision'):\n",
    "    for nb_neurons in tqdm([4,8,16,32,64], desc='nb_neurons', leave=False):\n",
    "        count = 0\n",
    "        \n",
    "        for run_id in tqdm(range(nb_experiments), desc='run', leave=False):\n",
    "            \n",
    "            (net1, net2) = build_models(nb_neurons, nb_layers, precision, device)\n",
    "            \n",
    "            for x, y in train_loader:\n",
    "                \n",
    "                if precision == 16:\n",
    "                    x = x.type(torch.HalfTensor)\n",
    "                if precision == 64:\n",
    "                    x = x.type(torch.DoubleTensor)\n",
    "                    \n",
    "                x = x.to(device)\n",
    "                y = y.to(device)\n",
    "                same = True\n",
    "                \n",
    "                y1 = net1(x.view(-1, 28 * 28))\n",
    "                y2 = net2(x.view(-1, 28 * 28))\n",
    "                l1 = nn.CrossEntropyLoss()(y1, y)\n",
    "                l2 = nn.CrossEntropyLoss()(y2, y)\n",
    "                l1.backward(), l2.backward()\n",
    "                \n",
    "                if (net1.sequence[0].weight.grad - net2.sequence[0].weight.grad).abs().sum() != 0:\n",
    "                    count += 1\n",
    "                    break\n",
    "                \n",
    "        df = df.append({\"precision\": precision,\n",
    "                        \"nb_neurons\": nb_neurons,\n",
    "                        \"count\": count}, ignore_index=True)\n",
    "\n",
    "\n",
    "df.to_csv(\"volume_estimation_by_number_of_neurons_MNIST.csv\")"
   ]
  },
  {
   "cell_type": "code",
   "execution_count": 54,
   "metadata": {},
   "outputs": [],
   "source": [
    "#In case we want to relabel\n",
    "df = pd.read_csv(\"volume_estimation_by_number_of_neurons_MNIST.csv\")"
   ]
  },
  {
   "cell_type": "code",
   "execution_count": 55,
   "metadata": {},
   "outputs": [
    {
     "data": {
      "image/png": "[encoded data removed]",
      "text/plain": [
       "<Figure size 648x324 with 1 Axes>"
      ]
     },
     "metadata": {
      "needs_background": "light"
     },
     "output_type": "display_data"
    }
   ],
   "source": [
    "df['ratio'] = df['count'] / nb_experiments\n",
    "df = df.astype({\"nb_neurons\": int})\n",
    "sns.catplot(x = \"nb_neurons\",       \n",
    "            y = \"ratio\",       \n",
    "            hue = \"precision\",                  \n",
    "            data = df,     \n",
    "            kind = \"bar\",\n",
    "            height=4.5, aspect=2,\n",
    "            legend=False\n",
    "            )\n",
    "\n",
    "plt.legend(title='precision', fontsize='20', title_fontsize='20', bbox_to_anchor=(1.05, 1), loc='upper left')\n",
    "plt.xlabel('Number of neurons by layer', fontsize='20');\n",
    "plt.ylabel('Ratio of ' + r'$\\theta \\in S$', fontsize='20');\n",
    "plt.yticks(fontsize='20');\n",
    "plt.xticks(fontsize='20');\n",
    "plt.suptitle(\"Volume by number of neurons\", fontsize='25', y=1.05)\n",
    "plt.text(4.9,.2, \"Layers =4\\nBatch Size = 256 \\nExperiments = 100\", fontsize='15');\n",
    "plt.savefig('neurons.png')"
   ]
  },
  {
   "cell_type": "code",
   "execution_count": 5,
   "metadata": {},
   "outputs": [
    {
     "data": {
      "application/vnd.jupyter.widget-view+json": {
       "model_id": "ead8e26a315046b0af40bde58b0efd96",
       "version_major": 2,
       "version_minor": 0
      },
      "text/plain": [
       "precision:   0%|          | 0/3 [00:00<?, ?it/s]"
      ]
     },
     "metadata": {},
     "output_type": "display_data"
    },
    {
     "data": {
      "application/vnd.jupyter.widget-view+json": {
       "model_id": "d2ec9d08115c4249870a7e3518e9412f",
       "version_major": 2,
       "version_minor": 0
      },
      "text/plain": [
       "batch_size:   0%|          | 0/5 [00:00<?, ?it/s]"
      ]
     },
     "metadata": {},
     "output_type": "display_data"
    },
    {
     "data": {
      "application/vnd.jupyter.widget-view+json": {
       "model_id": "b8063b06301d48309e3eaeff1114d5f8",
       "version_major": 2,
       "version_minor": 0
      },
      "text/plain": [
       "run:   0%|          | 0/100 [00:00<?, ?it/s]"
      ]
     },
     "metadata": {},
     "output_type": "display_data"
    },
    {
     "name": "stderr",
     "output_type": "stream",
     "text": [
      "C:\\Users\\hecma\\AppData\\Local\\Temp\\ipykernel_704\\2002191208.py:38: FutureWarning: The frame.append method is deprecated and will be removed from pandas in a future version. Use pandas.concat instead.\n",
      "  df = df.append({\"precision\": precision,\n"
     ]
    },
    {
     "data": {
      "application/vnd.jupyter.widget-view+json": {
       "model_id": "faf38a7a6d8d4e68933b75350f5c8261",
       "version_major": 2,
       "version_minor": 0
      },
      "text/plain": [
       "run:   0%|          | 0/100 [00:00<?, ?it/s]"
      ]
     },
     "metadata": {},
     "output_type": "display_data"
    },
    {
     "name": "stderr",
     "output_type": "stream",
     "text": [
      "C:\\Users\\hecma\\AppData\\Local\\Temp\\ipykernel_704\\2002191208.py:38: FutureWarning: The frame.append method is deprecated and will be removed from pandas in a future version. Use pandas.concat instead.\n",
      "  df = df.append({\"precision\": precision,\n"
     ]
    },
    {
     "data": {
      "application/vnd.jupyter.widget-view+json": {
       "model_id": "7cdc3477a4f744e69e193dd413a58157",
       "version_major": 2,
       "version_minor": 0
      },
      "text/plain": [
       "run:   0%|          | 0/100 [00:00<?, ?it/s]"
      ]
     },
     "metadata": {},
     "output_type": "display_data"
    },
    {
     "name": "stderr",
     "output_type": "stream",
     "text": [
      "C:\\Users\\hecma\\AppData\\Local\\Temp\\ipykernel_704\\2002191208.py:38: FutureWarning: The frame.append method is deprecated and will be removed from pandas in a future version. Use pandas.concat instead.\n",
      "  df = df.append({\"precision\": precision,\n"
     ]
    },
    {
     "data": {
      "application/vnd.jupyter.widget-view+json": {
       "model_id": "720acb37412a48dba151d85212464b66",
       "version_major": 2,
       "version_minor": 0
      },
      "text/plain": [
       "run:   0%|          | 0/100 [00:00<?, ?it/s]"
      ]
     },
     "metadata": {},
     "output_type": "display_data"
    },
    {
     "name": "stderr",
     "output_type": "stream",
     "text": [
      "C:\\Users\\hecma\\AppData\\Local\\Temp\\ipykernel_704\\2002191208.py:38: FutureWarning: The frame.append method is deprecated and will be removed from pandas in a future version. Use pandas.concat instead.\n",
      "  df = df.append({\"precision\": precision,\n"
     ]
    },
    {
     "data": {
      "application/vnd.jupyter.widget-view+json": {
       "model_id": "c88f250bf0f94f1882824ddb6e1e7b37",
       "version_major": 2,
       "version_minor": 0
      },
      "text/plain": [
       "run:   0%|          | 0/100 [00:00<?, ?it/s]"
      ]
     },
     "metadata": {},
     "output_type": "display_data"
    },
    {
     "name": "stderr",
     "output_type": "stream",
     "text": [
      "C:\\Users\\hecma\\AppData\\Local\\Temp\\ipykernel_704\\2002191208.py:38: FutureWarning: The frame.append method is deprecated and will be removed from pandas in a future version. Use pandas.concat instead.\n",
      "  df = df.append({\"precision\": precision,\n"
     ]
    },
    {
     "data": {
      "application/vnd.jupyter.widget-view+json": {
       "model_id": "804145423dc74f10bf5dfaee0404f10b",
       "version_major": 2,
       "version_minor": 0
      },
      "text/plain": [
       "batch_size:   0%|          | 0/5 [00:00<?, ?it/s]"
      ]
     },
     "metadata": {},
     "output_type": "display_data"
    },
    {
     "data": {
      "application/vnd.jupyter.widget-view+json": {
       "model_id": "d9a0e88eddba4763beb6dec1b29e2705",
       "version_major": 2,
       "version_minor": 0
      },
      "text/plain": [
       "run:   0%|          | 0/100 [00:00<?, ?it/s]"
      ]
     },
     "metadata": {},
     "output_type": "display_data"
    },
    {
     "name": "stderr",
     "output_type": "stream",
     "text": [
      "C:\\Users\\hecma\\AppData\\Local\\Temp\\ipykernel_704\\2002191208.py:38: FutureWarning: The frame.append method is deprecated and will be removed from pandas in a future version. Use pandas.concat instead.\n",
      "  df = df.append({\"precision\": precision,\n"
     ]
    },
    {
     "data": {
      "application/vnd.jupyter.widget-view+json": {
       "model_id": "b911489695f64d6fb379ee56e18c26a8",
       "version_major": 2,
       "version_minor": 0
      },
      "text/plain": [
       "run:   0%|          | 0/100 [00:00<?, ?it/s]"
      ]
     },
     "metadata": {},
     "output_type": "display_data"
    },
    {
     "name": "stderr",
     "output_type": "stream",
     "text": [
      "C:\\Users\\hecma\\AppData\\Local\\Temp\\ipykernel_704\\2002191208.py:38: FutureWarning: The frame.append method is deprecated and will be removed from pandas in a future version. Use pandas.concat instead.\n",
      "  df = df.append({\"precision\": precision,\n"
     ]
    },
    {
     "data": {
      "application/vnd.jupyter.widget-view+json": {
       "model_id": "37dc38b3fde446699148c3fbb5b68032",
       "version_major": 2,
       "version_minor": 0
      },
      "text/plain": [
       "run:   0%|          | 0/100 [00:00<?, ?it/s]"
      ]
     },
     "metadata": {},
     "output_type": "display_data"
    },
    {
     "name": "stderr",
     "output_type": "stream",
     "text": [
      "C:\\Users\\hecma\\AppData\\Local\\Temp\\ipykernel_704\\2002191208.py:38: FutureWarning: The frame.append method is deprecated and will be removed from pandas in a future version. Use pandas.concat instead.\n",
      "  df = df.append({\"precision\": precision,\n"
     ]
    },
    {
     "data": {
      "application/vnd.jupyter.widget-view+json": {
       "model_id": "3a05a61f09b44c90910074d475454f67",
       "version_major": 2,
       "version_minor": 0
      },
      "text/plain": [
       "run:   0%|          | 0/100 [00:00<?, ?it/s]"
      ]
     },
     "metadata": {},
     "output_type": "display_data"
    },
    {
     "name": "stderr",
     "output_type": "stream",
     "text": [
      "C:\\Users\\hecma\\AppData\\Local\\Temp\\ipykernel_704\\2002191208.py:38: FutureWarning: The frame.append method is deprecated and will be removed from pandas in a future version. Use pandas.concat instead.\n",
      "  df = df.append({\"precision\": precision,\n"
     ]
    },
    {
     "data": {
      "application/vnd.jupyter.widget-view+json": {
       "model_id": "4fc3f2252d5341b7b50dafab95bd9972",
       "version_major": 2,
       "version_minor": 0
      },
      "text/plain": [
       "run:   0%|          | 0/100 [00:00<?, ?it/s]"
      ]
     },
     "metadata": {},
     "output_type": "display_data"
    },
    {
     "name": "stderr",
     "output_type": "stream",
     "text": [
      "C:\\Users\\hecma\\AppData\\Local\\Temp\\ipykernel_704\\2002191208.py:38: FutureWarning: The frame.append method is deprecated and will be removed from pandas in a future version. Use pandas.concat instead.\n",
      "  df = df.append({\"precision\": precision,\n"
     ]
    },
    {
     "data": {
      "application/vnd.jupyter.widget-view+json": {
       "model_id": "e467635398dc468abf6423af40a7dcbb",
       "version_major": 2,
       "version_minor": 0
      },
      "text/plain": [
       "batch_size:   0%|          | 0/5 [00:00<?, ?it/s]"
      ]
     },
     "metadata": {},
     "output_type": "display_data"
    },
    {
     "data": {
      "application/vnd.jupyter.widget-view+json": {
       "model_id": "c229b7a3dce64e3bb298a1aa69396ca7",
       "version_major": 2,
       "version_minor": 0
      },
      "text/plain": [
       "run:   0%|          | 0/100 [00:00<?, ?it/s]"
      ]
     },
     "metadata": {},
     "output_type": "display_data"
    },
    {
     "name": "stderr",
     "output_type": "stream",
     "text": [
      "C:\\Users\\hecma\\AppData\\Local\\Temp\\ipykernel_704\\2002191208.py:38: FutureWarning: The frame.append method is deprecated and will be removed from pandas in a future version. Use pandas.concat instead.\n",
      "  df = df.append({\"precision\": precision,\n"
     ]
    },
    {
     "data": {
      "application/vnd.jupyter.widget-view+json": {
       "model_id": "cd479cc671b54e5cb9e2ec4f614e9b10",
       "version_major": 2,
       "version_minor": 0
      },
      "text/plain": [
       "run:   0%|          | 0/100 [00:00<?, ?it/s]"
      ]
     },
     "metadata": {},
     "output_type": "display_data"
    },
    {
     "name": "stderr",
     "output_type": "stream",
     "text": [
      "C:\\Users\\hecma\\AppData\\Local\\Temp\\ipykernel_704\\2002191208.py:38: FutureWarning: The frame.append method is deprecated and will be removed from pandas in a future version. Use pandas.concat instead.\n",
      "  df = df.append({\"precision\": precision,\n"
     ]
    },
    {
     "data": {
      "application/vnd.jupyter.widget-view+json": {
       "model_id": "4ad8930a88ec4a3097b2815ca115fcd2",
       "version_major": 2,
       "version_minor": 0
      },
      "text/plain": [
       "run:   0%|          | 0/100 [00:00<?, ?it/s]"
      ]
     },
     "metadata": {},
     "output_type": "display_data"
    },
    {
     "name": "stderr",
     "output_type": "stream",
     "text": [
      "C:\\Users\\hecma\\AppData\\Local\\Temp\\ipykernel_704\\2002191208.py:38: FutureWarning: The frame.append method is deprecated and will be removed from pandas in a future version. Use pandas.concat instead.\n",
      "  df = df.append({\"precision\": precision,\n"
     ]
    },
    {
     "data": {
      "application/vnd.jupyter.widget-view+json": {
       "model_id": "b018b088f85a4db88b0b00a7ff8c9ec2",
       "version_major": 2,
       "version_minor": 0
      },
      "text/plain": [
       "run:   0%|          | 0/100 [00:00<?, ?it/s]"
      ]
     },
     "metadata": {},
     "output_type": "display_data"
    },
    {
     "name": "stderr",
     "output_type": "stream",
     "text": [
      "C:\\Users\\hecma\\AppData\\Local\\Temp\\ipykernel_704\\2002191208.py:38: FutureWarning: The frame.append method is deprecated and will be removed from pandas in a future version. Use pandas.concat instead.\n",
      "  df = df.append({\"precision\": precision,\n"
     ]
    },
    {
     "data": {
      "application/vnd.jupyter.widget-view+json": {
       "model_id": "915cbc21e5d646db8008cd115b6b092b",
       "version_major": 2,
       "version_minor": 0
      },
      "text/plain": [
       "run:   0%|          | 0/100 [00:00<?, ?it/s]"
      ]
     },
     "metadata": {},
     "output_type": "display_data"
    },
    {
     "name": "stderr",
     "output_type": "stream",
     "text": [
      "C:\\Users\\hecma\\AppData\\Local\\Temp\\ipykernel_704\\2002191208.py:38: FutureWarning: The frame.append method is deprecated and will be removed from pandas in a future version. Use pandas.concat instead.\n",
      "  df = df.append({\"precision\": precision,\n"
     ]
    }
   ],
   "source": [
    "# This experiment is done with different batch sizes and precisions with a fixed number of layers and neurons\n",
    "df = pd.DataFrame(columns=[\"precision\", \"count\", \"nb_layers\"])\n",
    "\n",
    "nb_layers = 3\n",
    "nb_neurons = 32\n",
    "\n",
    "for precision in tqdm([16,32,64], desc='precision'):\n",
    "    for batch_size in tqdm([16, 32, 64, 128, 256], desc='batch_size', leave=False):\n",
    "        count = 0\n",
    "        \n",
    "        train_loader = torch.utils.data.DataLoader(train_data, batch_size=batch_size)\n",
    "        \n",
    "        for run_id in tqdm(range(nb_experiments), desc='run', leave=False):\n",
    "            \n",
    "            (net1, net2) = build_models(nb_neurons, nb_layers, precision, device)\n",
    "            \n",
    "            for x, y in train_loader:\n",
    "                \n",
    "                if precision == 16:\n",
    "                    x = x.type(torch.HalfTensor)\n",
    "                if precision == 64:\n",
    "                    x = x.type(torch.DoubleTensor)\n",
    "                \n",
    "                x = x.to(device)\n",
    "                y = y.to(device)\n",
    "                \n",
    "                same = True\n",
    "                y1 = net1(x.view(-1, 28 * 28))\n",
    "                y2 = net2(x.view(-1, 28 * 28))\n",
    "                l1 = nn.CrossEntropyLoss()(y1, y)\n",
    "                l2 = nn.CrossEntropyLoss()(y2, y)\n",
    "                l1.backward(), l2.backward()\n",
    "                \n",
    "                if (net1.sequence[0].weight.grad - net2.sequence[0].weight.grad).abs().sum() != 0:\n",
    "                    count += 1\n",
    "                    break\n",
    "                \n",
    "        df = df.append({\"precision\": precision,\n",
    "                        \"batch_size\": batch_size,\n",
    "                        \"count\": count}, ignore_index=True)\n",
    "\n",
    "df.to_csv(\"volume_estimation_by_batch_size_MNIST.csv\")"
   ]
  },
  {
   "cell_type": "code",
   "execution_count": 14,
   "metadata": {},
   "outputs": [],
   "source": [
    "df = pd.read_csv(\"volume_estimation_by_batch_size_MNIST.csv\")\n",
    "nb_experiments = 100"
   ]
  },
  {
   "cell_type": "code",
   "execution_count": 15,
   "metadata": {},
   "outputs": [
    {
     "data": {
      "image/png": "[encoded data removed]",
      "text/plain": [
       "<Figure size 648x324 with 1 Axes>"
      ]
     },
     "metadata": {
      "needs_background": "light"
     },
     "output_type": "display_data"
    }
   ],
   "source": [
    "df['ratio'] = df['count'] / nb_experiments\n",
    "df = df.astype({\"batch_size\": int})\n",
    "\n",
    "sns.catplot(x = \"batch_size\",       \n",
    "            y = \"ratio\",       \n",
    "            hue = \"precision\",                  \n",
    "            data = df,     \n",
    "            kind = \"bar\",\n",
    "            height=4.5, aspect=2,\n",
    "            legend=False\n",
    "            )\n",
    "\n",
    "plt.legend(title='Precision', fontsize='20', title_fontsize='20', bbox_to_anchor=(1.05, 1), loc='upper left')\n",
    "plt.xlabel('Batch size', fontsize='20');\n",
    "plt.ylabel('Ratio of ' + r'$\\theta \\in S$', fontsize='20');\n",
    "plt.yticks(fontsize='20');\n",
    "plt.xticks(fontsize='20');\n",
    "plt.suptitle(\"Volume by batch size\", fontsize='25', y=1.05)\n",
    "plt.text(4.9,.2, \"Layers = 4\\nNeurons =32 \\nExperiments = 100\", fontsize='15');\n",
    "plt.savefig('Batches.png')"
   ]
  },
  {
   "attachments": {},
   "cell_type": "markdown",
   "metadata": {},
   "source": [
    "it ran 197 minutes with NVIDIA GeForce RTX 3060 GPU"
   ]
  },
  {
   "cell_type": "code",
   "execution_count": 5,
   "metadata": {},
   "outputs": [
    {
     "data": {
      "application/vnd.jupyter.widget-view+json": {
       "model_id": "41c2937273b2435dbab1daa484213175",
       "version_major": 2,
       "version_minor": 0
      },
      "text/plain": [
       "precision:   0%|          | 0/3 [00:00<?, ?it/s]"
      ]
     },
     "metadata": {},
     "output_type": "display_data"
    },
    {
     "data": {
      "application/vnd.jupyter.widget-view+json": {
       "model_id": "ec33239fd63c45bbad365aae8f370a61",
       "version_major": 2,
       "version_minor": 0
      },
      "text/plain": [
       "Number of samples:   0%|          | 0/5 [00:00<?, ?it/s]"
      ]
     },
     "metadata": {},
     "output_type": "display_data"
    },
    {
     "data": {
      "application/vnd.jupyter.widget-view+json": {
       "model_id": "2545b5ce56ce41d28b9f37d441bf17ed",
       "version_major": 2,
       "version_minor": 0
      },
      "text/plain": [
       "run:   0%|          | 0/100 [00:00<?, ?it/s]"
      ]
     },
     "metadata": {},
     "output_type": "display_data"
    },
    {
     "name": "stderr",
     "output_type": "stream",
     "text": [
      "C:\\Users\\hecma\\AppData\\Local\\Temp\\ipykernel_24184\\844525202.py:41: FutureWarning: The frame.append method is deprecated and will be removed from pandas in a future version. Use pandas.concat instead.\n",
      "  df = df.append({\"precision\": precision,\n"
     ]
    },
    {
     "data": {
      "application/vnd.jupyter.widget-view+json": {
       "model_id": "adb26a8d8467463da592c0a79d48bf66",
       "version_major": 2,
       "version_minor": 0
      },
      "text/plain": [
       "run:   0%|          | 0/100 [00:00<?, ?it/s]"
      ]
     },
     "metadata": {},
     "output_type": "display_data"
    },
    {
     "name": "stderr",
     "output_type": "stream",
     "text": [
      "C:\\Users\\hecma\\AppData\\Local\\Temp\\ipykernel_24184\\844525202.py:41: FutureWarning: The frame.append method is deprecated and will be removed from pandas in a future version. Use pandas.concat instead.\n",
      "  df = df.append({\"precision\": precision,\n"
     ]
    },
    {
     "data": {
      "application/vnd.jupyter.widget-view+json": {
       "model_id": "891200f0ba1c497ea03adbf5c190eca5",
       "version_major": 2,
       "version_minor": 0
      },
      "text/plain": [
       "run:   0%|          | 0/100 [00:00<?, ?it/s]"
      ]
     },
     "metadata": {},
     "output_type": "display_data"
    },
    {
     "name": "stderr",
     "output_type": "stream",
     "text": [
      "C:\\Users\\hecma\\AppData\\Local\\Temp\\ipykernel_24184\\844525202.py:41: FutureWarning: The frame.append method is deprecated and will be removed from pandas in a future version. Use pandas.concat instead.\n",
      "  df = df.append({\"precision\": precision,\n"
     ]
    },
    {
     "data": {
      "application/vnd.jupyter.widget-view+json": {
       "model_id": "ce3a8332b7b24733b895cf5035ba63ce",
       "version_major": 2,
       "version_minor": 0
      },
      "text/plain": [
       "run:   0%|          | 0/100 [00:00<?, ?it/s]"
      ]
     },
     "metadata": {},
     "output_type": "display_data"
    },
    {
     "name": "stderr",
     "output_type": "stream",
     "text": [
      "C:\\Users\\hecma\\AppData\\Local\\Temp\\ipykernel_24184\\844525202.py:41: FutureWarning: The frame.append method is deprecated and will be removed from pandas in a future version. Use pandas.concat instead.\n",
      "  df = df.append({\"precision\": precision,\n"
     ]
    },
    {
     "data": {
      "application/vnd.jupyter.widget-view+json": {
       "model_id": "76d996bca18a4bde9d5f5c298e1148ee",
       "version_major": 2,
       "version_minor": 0
      },
      "text/plain": [
       "run:   0%|          | 0/100 [00:00<?, ?it/s]"
      ]
     },
     "metadata": {},
     "output_type": "display_data"
    },
    {
     "name": "stderr",
     "output_type": "stream",
     "text": [
      "C:\\Users\\hecma\\AppData\\Local\\Temp\\ipykernel_24184\\844525202.py:41: FutureWarning: The frame.append method is deprecated and will be removed from pandas in a future version. Use pandas.concat instead.\n",
      "  df = df.append({\"precision\": precision,\n"
     ]
    },
    {
     "data": {
      "application/vnd.jupyter.widget-view+json": {
       "model_id": "c5bd598ad6d04e029b5d7c5eff719916",
       "version_major": 2,
       "version_minor": 0
      },
      "text/plain": [
       "Number of samples:   0%|          | 0/5 [00:00<?, ?it/s]"
      ]
     },
     "metadata": {},
     "output_type": "display_data"
    },
    {
     "data": {
      "application/vnd.jupyter.widget-view+json": {
       "model_id": "8f8946706a284f26af25663d9cffe0f6",
       "version_major": 2,
       "version_minor": 0
      },
      "text/plain": [
       "run:   0%|          | 0/100 [00:00<?, ?it/s]"
      ]
     },
     "metadata": {},
     "output_type": "display_data"
    },
    {
     "name": "stderr",
     "output_type": "stream",
     "text": [
      "C:\\Users\\hecma\\AppData\\Local\\Temp\\ipykernel_24184\\844525202.py:41: FutureWarning: The frame.append method is deprecated and will be removed from pandas in a future version. Use pandas.concat instead.\n",
      "  df = df.append({\"precision\": precision,\n"
     ]
    },
    {
     "data": {
      "application/vnd.jupyter.widget-view+json": {
       "model_id": "609e1179c45e44daa012bc22b6d0b0cf",
       "version_major": 2,
       "version_minor": 0
      },
      "text/plain": [
       "run:   0%|          | 0/100 [00:00<?, ?it/s]"
      ]
     },
     "metadata": {},
     "output_type": "display_data"
    },
    {
     "name": "stderr",
     "output_type": "stream",
     "text": [
      "C:\\Users\\hecma\\AppData\\Local\\Temp\\ipykernel_24184\\844525202.py:41: FutureWarning: The frame.append method is deprecated and will be removed from pandas in a future version. Use pandas.concat instead.\n",
      "  df = df.append({\"precision\": precision,\n"
     ]
    },
    {
     "data": {
      "application/vnd.jupyter.widget-view+json": {
       "model_id": "bcf8497770db4a4fb1636c085d468c3d",
       "version_major": 2,
       "version_minor": 0
      },
      "text/plain": [
       "run:   0%|          | 0/100 [00:00<?, ?it/s]"
      ]
     },
     "metadata": {},
     "output_type": "display_data"
    },
    {
     "name": "stderr",
     "output_type": "stream",
     "text": [
      "C:\\Users\\hecma\\AppData\\Local\\Temp\\ipykernel_24184\\844525202.py:41: FutureWarning: The frame.append method is deprecated and will be removed from pandas in a future version. Use pandas.concat instead.\n",
      "  df = df.append({\"precision\": precision,\n"
     ]
    },
    {
     "data": {
      "application/vnd.jupyter.widget-view+json": {
       "model_id": "9d2f7c3e4ab5491fb98bedf47db87183",
       "version_major": 2,
       "version_minor": 0
      },
      "text/plain": [
       "run:   0%|          | 0/100 [00:00<?, ?it/s]"
      ]
     },
     "metadata": {},
     "output_type": "display_data"
    },
    {
     "name": "stderr",
     "output_type": "stream",
     "text": [
      "C:\\Users\\hecma\\AppData\\Local\\Temp\\ipykernel_24184\\844525202.py:41: FutureWarning: The frame.append method is deprecated and will be removed from pandas in a future version. Use pandas.concat instead.\n",
      "  df = df.append({\"precision\": precision,\n"
     ]
    },
    {
     "data": {
      "application/vnd.jupyter.widget-view+json": {
       "model_id": "70baf92ab05a4529941ba455a27ef05d",
       "version_major": 2,
       "version_minor": 0
      },
      "text/plain": [
       "run:   0%|          | 0/100 [00:00<?, ?it/s]"
      ]
     },
     "metadata": {},
     "output_type": "display_data"
    },
    {
     "name": "stderr",
     "output_type": "stream",
     "text": [
      "C:\\Users\\hecma\\AppData\\Local\\Temp\\ipykernel_24184\\844525202.py:41: FutureWarning: The frame.append method is deprecated and will be removed from pandas in a future version. Use pandas.concat instead.\n",
      "  df = df.append({\"precision\": precision,\n"
     ]
    },
    {
     "data": {
      "application/vnd.jupyter.widget-view+json": {
       "model_id": "abbdce3e06f14aa3bdea938d4e45f316",
       "version_major": 2,
       "version_minor": 0
      },
      "text/plain": [
       "Number of samples:   0%|          | 0/5 [00:00<?, ?it/s]"
      ]
     },
     "metadata": {},
     "output_type": "display_data"
    },
    {
     "data": {
      "application/vnd.jupyter.widget-view+json": {
       "model_id": "5b1542240f8d49c7911fec7bf7d180fb",
       "version_major": 2,
       "version_minor": 0
      },
      "text/plain": [
       "run:   0%|          | 0/100 [00:00<?, ?it/s]"
      ]
     },
     "metadata": {},
     "output_type": "display_data"
    },
    {
     "name": "stderr",
     "output_type": "stream",
     "text": [
      "C:\\Users\\hecma\\AppData\\Local\\Temp\\ipykernel_24184\\844525202.py:41: FutureWarning: The frame.append method is deprecated and will be removed from pandas in a future version. Use pandas.concat instead.\n",
      "  df = df.append({\"precision\": precision,\n"
     ]
    },
    {
     "data": {
      "application/vnd.jupyter.widget-view+json": {
       "model_id": "9bdc777cc8b84f8da6a74ac97a464e56",
       "version_major": 2,
       "version_minor": 0
      },
      "text/plain": [
       "run:   0%|          | 0/100 [00:00<?, ?it/s]"
      ]
     },
     "metadata": {},
     "output_type": "display_data"
    },
    {
     "name": "stderr",
     "output_type": "stream",
     "text": [
      "C:\\Users\\hecma\\AppData\\Local\\Temp\\ipykernel_24184\\844525202.py:41: FutureWarning: The frame.append method is deprecated and will be removed from pandas in a future version. Use pandas.concat instead.\n",
      "  df = df.append({\"precision\": precision,\n"
     ]
    },
    {
     "data": {
      "application/vnd.jupyter.widget-view+json": {
       "model_id": "9691241d59f945cc93361e1b5264fc02",
       "version_major": 2,
       "version_minor": 0
      },
      "text/plain": [
       "run:   0%|          | 0/100 [00:00<?, ?it/s]"
      ]
     },
     "metadata": {},
     "output_type": "display_data"
    },
    {
     "name": "stderr",
     "output_type": "stream",
     "text": [
      "C:\\Users\\hecma\\AppData\\Local\\Temp\\ipykernel_24184\\844525202.py:41: FutureWarning: The frame.append method is deprecated and will be removed from pandas in a future version. Use pandas.concat instead.\n",
      "  df = df.append({\"precision\": precision,\n"
     ]
    },
    {
     "data": {
      "application/vnd.jupyter.widget-view+json": {
       "model_id": "4501e2581426489cbdb34c7a5a735738",
       "version_major": 2,
       "version_minor": 0
      },
      "text/plain": [
       "run:   0%|          | 0/100 [00:00<?, ?it/s]"
      ]
     },
     "metadata": {},
     "output_type": "display_data"
    },
    {
     "name": "stderr",
     "output_type": "stream",
     "text": [
      "C:\\Users\\hecma\\AppData\\Local\\Temp\\ipykernel_24184\\844525202.py:41: FutureWarning: The frame.append method is deprecated and will be removed from pandas in a future version. Use pandas.concat instead.\n",
      "  df = df.append({\"precision\": precision,\n"
     ]
    },
    {
     "data": {
      "application/vnd.jupyter.widget-view+json": {
       "model_id": "01ed6ea61758437194ca6d6af44bdacd",
       "version_major": 2,
       "version_minor": 0
      },
      "text/plain": [
       "run:   0%|          | 0/100 [00:00<?, ?it/s]"
      ]
     },
     "metadata": {},
     "output_type": "display_data"
    },
    {
     "name": "stderr",
     "output_type": "stream",
     "text": [
      "C:\\Users\\hecma\\AppData\\Local\\Temp\\ipykernel_24184\\844525202.py:41: FutureWarning: The frame.append method is deprecated and will be removed from pandas in a future version. Use pandas.concat instead.\n",
      "  df = df.append({\"precision\": precision,\n"
     ]
    }
   ],
   "source": [
    "# Varying the size of the dataset\n",
    "\n",
    "df = pd.DataFrame(columns=[\"precision\", \"count\", \"nb_layers\"])\n",
    "\n",
    "nb_layers = 3\n",
    "nb_neurons = 32\n",
    "batch_size = 64\n",
    "samples =[10000,20000,40000,50000,60000]\n",
    "\n",
    "for precision in tqdm([16,32,64], desc='precision'):\n",
    "    for sample_size in tqdm(samples, desc='Number of samples', leave=False):\n",
    "        count = 0\n",
    "        \n",
    "        train_data_new = torch.utils.data.Subset(train_data, np.random.randint(0, int(len(train_data)), (int(sample_size),)))  \n",
    "        train_loader = torch.utils.data.DataLoader(train_data_new, batch_size=batch_size)\n",
    "        \n",
    "        for run_id in tqdm(range(nb_experiments), desc='run', leave=False):\n",
    "            \n",
    "            (net1, net2) = build_models(nb_neurons, nb_layers, precision, device)\n",
    "            \n",
    "            for x, y in train_loader:\n",
    "                \n",
    "                if precision == 16:\n",
    "                    x = x.type(torch.HalfTensor)\n",
    "                if precision == 64:\n",
    "                    x = x.type(torch.DoubleTensor)\n",
    "                \n",
    "                x = x.to(device)\n",
    "                y = y.to(device)\n",
    "                \n",
    "                same = True\n",
    "                y1 = net1(x.view(-1, 28 * 28))\n",
    "                y2 = net2(x.view(-1, 28 * 28))\n",
    "                l1 = nn.CrossEntropyLoss()(y1, y)\n",
    "                l2 = nn.CrossEntropyLoss()(y2, y)\n",
    "                l1.backward(), l2.backward()\n",
    "                \n",
    "                if (net1.sequence[0].weight.grad - net2.sequence[0].weight.grad).abs().sum() != 0:\n",
    "                    count += 1\n",
    "                    break\n",
    "                \n",
    "        df = df.append({\"precision\": precision,\n",
    "                        \"sample_size\": sample_size,\n",
    "                        \"count\": count}, ignore_index=True)\n",
    "\n",
    "df.to_csv(\"volume_estimation_by_sample_size_MNIST.csv\")"
   ]
  },
  {
   "attachments": {},
   "cell_type": "markdown",
   "metadata": {},
   "source": [
    "took 86 min to run on NVIDIA GeForce RTX 3060 GPU"
   ]
  },
  {
   "cell_type": "code",
   "execution_count": 17,
   "metadata": {},
   "outputs": [],
   "source": [
    "#In case we want to relabel\n",
    "df = pd.read_csv(\"volume_estimation_by_sample_size_MNIST.csv\")"
   ]
  },
  {
   "cell_type": "code",
   "execution_count": 18,
   "metadata": {},
   "outputs": [
    {
     "data": {
      "image/png": "[encoded data removed]",
      "text/plain": [
       "<Figure size 648x324 with 1 Axes>"
      ]
     },
     "metadata": {
      "needs_background": "light"
     },
     "output_type": "display_data"
    }
   ],
   "source": [
    "df['ratio'] = df['count'] / nb_experiments\n",
    "df = df.astype({\"sample_size\": int})\n",
    "\n",
    "sns.catplot(x = \"sample_size\",       \n",
    "            y = \"ratio\",       \n",
    "            hue = \"precision\",                  \n",
    "            data = df,     \n",
    "            kind = \"bar\",\n",
    "            height=4.5, aspect=2,\n",
    "            legend=False\n",
    "            )\n",
    "\n",
    "plt.legend(title='Precision', fontsize='20', title_fontsize='20', bbox_to_anchor=(1.05, 1), loc='upper left')\n",
    "plt.title('Volume by sample size', fontsize='25')\n",
    "plt.xlabel('Sample size', fontsize='20');\n",
    "plt.ylabel('Ratio of ' + r'$\\theta \\in S$', fontsize='20');\n",
    "plt.yticks(fontsize='20');\n",
    "plt.xticks(fontsize='20');\n",
    "plt.text(4.9,.2, \"Layers = 4\\nNeurons =32\\nBatch Size = 64\\nExperiments = 100\", fontsize='15');\n",
    "plt.savefig('sample size.png')  "
   ]
  },
  {
   "cell_type": "code",
   "execution_count": null,
   "metadata": {},
   "outputs": [],
   "source": []
  }
 ],
 "metadata": {
  "kernelspec": {
   "display_name": "base",
   "language": "python",
   "name": "python3"
  },
  "language_info": {
   "codemirror_mode": {
    "name": "ipython",
    "version": 3
   },
   "file_extension": ".py",
   "mimetype": "text/x-python",
   "name": "python",
   "nbconvert_exporter": "python",
   "pygments_lexer": "ipython3",
   "version": "3.9.12 (main, Apr  4 2022, 05:22:27) [MSC v.1916 64 bit (AMD64)]"
  },
  "orig_nbformat": 4,
  "vscode": {
   "interpreter": {
    "hash": "02f5945d149b04c31ea982f93ee137d9e8cdf50633c2456cfcab8268279ed0d3"
   }
  }
 },
 "nbformat": 4,
 "nbformat_minor": 2
}
