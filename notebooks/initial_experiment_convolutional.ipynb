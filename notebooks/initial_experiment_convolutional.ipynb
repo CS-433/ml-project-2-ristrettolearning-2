{
 "cells": [
  {
   "cell_type": "code",
   "execution_count": null,
   "metadata": {},
   "outputs": [],
   "source": [
    "import os\n",
    "import sys\n",
    "sys.path.append(os.path.abspath(\"..\"))"
   ]
  },
  {
   "cell_type": "code",
   "execution_count": null,
   "metadata": {},
   "outputs": [],
   "source": [
    "import torch\n",
    "import seaborn as sns\n",
    "import ristretto.activations as ra\n",
    "import ristretto.models as rm\n",
    "import ristretto.utils as ru\n",
    "import pandas as pd\n",
    "import numpy as np\n",
    "# from torch.utils.tensorboard import SummaryWriter"
   ]
  },
  {
   "cell_type": "code",
   "execution_count": null,
   "metadata": {},
   "outputs": [],
   "source": [
    "# set pytorch precision\n",
    "torch.set_default_tensor_type(torch.FloatTensor)\n",
    "torch.set_default_dtype(torch.float32)"
   ]
  },
  {
   "cell_type": "code",
   "execution_count": null,
   "metadata": {},
   "outputs": [],
   "source": [
    "@torch.no_grad()\n",
    "def get_weight_sum(model):\n",
    "    return sum([x.weight.sum() for x in model.linear]).item()"
   ]
  },
  {
   "cell_type": "code",
   "execution_count": null,
   "metadata": {},
   "outputs": [],
   "source": [
    "models = [\n",
    "    rm.ResNet(activation=lambda: ra.ReLU(0), seed=42),\n",
    "    rm.ResNet(activation=lambda: ra.ReLU(0), seed=42),\n",
    "    rm.ResNet(activation=lambda: ra.ReLU(1), seed=42)\n",
    "]"
   ]
  },
  {
   "cell_type": "code",
   "execution_count": null,
   "metadata": {},
   "outputs": [],
   "source": [
    "metrics = ru.train_multiple_models(\n",
    "    models,\n",
    "    ru.default.DATA_LOADERS['MNIST'],\n",
    "    epochs=2,\n",
    "    metrics_fn=lambda m, p, y: {\"weight_sum\": ru.get_weight_sum(m)}\n",
    ")"
   ]
  },
  {
   "cell_type": "code",
   "execution_count": null,
   "metadata": {},
   "outputs": [],
   "source": [
    "diff = pd.DataFrame({\n",
    "    \"0 vs 0\": np.abs(metrics[0][\"train\"]['weight_sum'] - metrics[1][\"train\"]['weight_sum']),\n",
    "    \"0 vs 1\": np.abs(metrics[0][\"train\"]['weight_sum'] - metrics[2][\"train\"]['weight_sum'])\n",
    "})\n",
    "sns.lineplot(data=diff, dashes=False);"
   ]
  },
  {
   "cell_type": "markdown",
   "metadata": {},
   "source": [
    "### When trained with 16-bit precision the difference between the models is even greater"
   ]
  },
  {
   "cell_type": "code",
   "execution_count": null,
   "metadata": {},
   "outputs": [],
   "source": [
    "# set pytorch precision\n",
    "torch.set_default_tensor_type(torch.FloatTensor)\n",
    "torch.set_default_dtype(torch.bfloat16)"
   ]
  },
  {
   "cell_type": "code",
   "execution_count": null,
   "metadata": {},
   "outputs": [],
   "source": [
    "models = [\n",
    "    rm.ResNet(activation=lambda: ra.ReLU(0), seed=42),\n",
    "    rm.ResNet(activation=lambda: ra.ReLU(0), seed=42),\n",
    "    rm.ResNet(activation=lambda: ra.ReLU(1), seed=42)\n",
    "]"
   ]
  },
  {
   "cell_type": "code",
   "execution_count": null,
   "metadata": {},
   "outputs": [],
   "source": [
    "metrics = ru.train_multiple_models(\n",
    "    models,\n",
    "    ru.default.DATA_LOADERS['MNIST'],\n",
    "    epochs=2,\n",
    "    metrics_fn=lambda m, p, y: {\"weight_sum\": ru.get_weight_sum(m)}\n",
    ")"
   ]
  },
  {
   "cell_type": "code",
   "execution_count": null,
   "metadata": {},
   "outputs": [],
   "source": [
    "diff = pd.DataFrame({\n",
    "    \"0 vs 0\": np.abs(metrics[0][\"train\"]['weight_sum'] - metrics[1][\"train\"]['weight_sum']),\n",
    "    \"0 vs 1\": np.abs(metrics[0][\"train\"]['weight_sum'] - metrics[2][\"train\"]['weight_sum'])\n",
    "})\n",
    "sns.lineplot(data=diff, dashes=False);"
   ]
  }
 ],
 "metadata": {
  "kernelspec": {
   "display_name": "Python 3 (ipykernel)",
   "language": "python",
   "name": "python3"
  },
  "language_info": {
   "codemirror_mode": {
    "name": "ipython",
    "version": 3
   },
   "file_extension": ".py",
   "mimetype": "text/x-python",
   "name": "python",
   "nbconvert_exporter": "python",
   "pygments_lexer": "ipython3",
   "version": "3.9.13"
  },
  "vscode": {
   "interpreter": {
    "hash": "e7370f93d1d0cde622a1f8e1c04877d8463912d04d973331ad4851f04de6915a"
   }
  }
 },
 "nbformat": 4,
 "nbformat_minor": 2
}
